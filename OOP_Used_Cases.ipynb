{
  "nbformat": 4,
  "nbformat_minor": 0,
  "metadata": {
    "colab": {
      "name": "OOP Used Cases",
      "provenance": [],
      "collapsed_sections": [],
      "authorship_tag": "ABX9TyPcK7ZfkiOC9lMrBUWsF89U",
      "include_colab_link": true
    },
    "kernelspec": {
      "name": "python3",
      "display_name": "Python 3"
    }
  },
  "cells": [
    {
      "cell_type": "markdown",
      "metadata": {
        "id": "view-in-github",
        "colab_type": "text"
      },
      "source": [
        "<a href=\"https://colab.research.google.com/github/Precillieo/Object-Oriented-Programming-Learning-Structures/blob/main/OOP_Used_Cases.ipynb\" target=\"_parent\"><img src=\"https://colab.research.google.com/assets/colab-badge.svg\" alt=\"Open In Colab\"/></a>"
      ]
    },
    {
      "cell_type": "code",
      "metadata": {
        "id": "F6BWODItiUdy",
        "colab": {
          "base_uri": "https://localhost:8080/"
        },
        "outputId": "133945db-4610-4b4d-cbca-45bfdf39a95f"
      },
      "source": [
        "item= 'Strawberry'\n",
        "print(type(item))"
      ],
      "execution_count": 1,
      "outputs": [
        {
          "output_type": "stream",
          "text": [
            "<class 'str'>\n"
          ],
          "name": "stdout"
        }
      ]
    },
    {
      "cell_type": "code",
      "metadata": {
        "id": "gxlBeQ9GUtOk",
        "colab": {
          "base_uri": "https://localhost:8080/"
        },
        "outputId": "d2e49acf-1a70-4824-b7ff-7f01d9210781"
      },
      "source": [
        "dir(item)"
      ],
      "execution_count": 2,
      "outputs": [
        {
          "output_type": "execute_result",
          "data": {
            "text/plain": [
              "['__add__',\n",
              " '__class__',\n",
              " '__contains__',\n",
              " '__delattr__',\n",
              " '__dir__',\n",
              " '__doc__',\n",
              " '__eq__',\n",
              " '__format__',\n",
              " '__ge__',\n",
              " '__getattribute__',\n",
              " '__getitem__',\n",
              " '__getnewargs__',\n",
              " '__gt__',\n",
              " '__hash__',\n",
              " '__init__',\n",
              " '__init_subclass__',\n",
              " '__iter__',\n",
              " '__le__',\n",
              " '__len__',\n",
              " '__lt__',\n",
              " '__mod__',\n",
              " '__mul__',\n",
              " '__ne__',\n",
              " '__new__',\n",
              " '__reduce__',\n",
              " '__reduce_ex__',\n",
              " '__repr__',\n",
              " '__rmod__',\n",
              " '__rmul__',\n",
              " '__setattr__',\n",
              " '__sizeof__',\n",
              " '__str__',\n",
              " '__subclasshook__',\n",
              " 'capitalize',\n",
              " 'casefold',\n",
              " 'center',\n",
              " 'count',\n",
              " 'encode',\n",
              " 'endswith',\n",
              " 'expandtabs',\n",
              " 'find',\n",
              " 'format',\n",
              " 'format_map',\n",
              " 'index',\n",
              " 'isalnum',\n",
              " 'isalpha',\n",
              " 'isdecimal',\n",
              " 'isdigit',\n",
              " 'isidentifier',\n",
              " 'islower',\n",
              " 'isnumeric',\n",
              " 'isprintable',\n",
              " 'isspace',\n",
              " 'istitle',\n",
              " 'isupper',\n",
              " 'join',\n",
              " 'ljust',\n",
              " 'lower',\n",
              " 'lstrip',\n",
              " 'maketrans',\n",
              " 'partition',\n",
              " 'replace',\n",
              " 'rfind',\n",
              " 'rindex',\n",
              " 'rjust',\n",
              " 'rpartition',\n",
              " 'rsplit',\n",
              " 'rstrip',\n",
              " 'split',\n",
              " 'splitlines',\n",
              " 'startswith',\n",
              " 'strip',\n",
              " 'swapcase',\n",
              " 'title',\n",
              " 'translate',\n",
              " 'upper',\n",
              " 'zfill']"
            ]
          },
          "metadata": {
            "tags": []
          },
          "execution_count": 2
        }
      ]
    },
    {
      "cell_type": "markdown",
      "metadata": {
        "id": "C_iIxs8LCQsJ"
      },
      "source": [
        "# Defining Class"
      ]
    },
    {
      "cell_type": "code",
      "metadata": {
        "id": "mzg0gySbiZGT"
      },
      "source": [
        "class User:\n",
        "  '''\n",
        " start a class definition, code inside class is always indented!\n",
        " pass is for creating an empty class\n",
        " '''\n",
        "  pass\n",
        "\n",
        "usd= User()  "
      ],
      "execution_count": 3,
      "outputs": []
    },
    {
      "cell_type": "markdown",
      "metadata": {
        "id": "5TJojdA6CYbC"
      },
      "source": [
        "# Setting Attributes and Methods"
      ]
    },
    {
      "cell_type": "code",
      "metadata": {
        "id": "k1uN7PN_kZlZ",
        "colab": {
          "base_uri": "https://localhost:8080/"
        },
        "outputId": "c1749814-7012-43da-9643-c9d7c95798a4"
      },
      "source": [
        "class User:\n",
        "  \n",
        "  #set an the name atrribute of an object to my_name\n",
        "  def set_name(self, my_name):\n",
        "    \n",
        "    self.name= my_name\n",
        "\n",
        "  def set_email(self, my_email):\n",
        "    #same as the email attribute\n",
        "    self.email= my_email\n",
        "\n",
        "  def sign_in(self):\n",
        "    '''\n",
        "    This is method sign-in defined under the class user\n",
        "    Note that method uses data already stored in the name and email attributes of the class,\n",
        "    so no  other parameter is added apart from the self parameter\n",
        "    '''\n",
        "    print('You are all allowed in because', self.name ,'is correct, and', self.email, 'is valid' )    \n",
        "\n",
        "usd= User() #it is still empty now\n",
        "usd.set_name('Kolawole Precious') #a name is set\n",
        "usd.set_email('kolawoleprecious99@gmail.com') #as well as an email_address \n",
        "usd.sign_in()  #ignore self when calling a method"
      ],
      "execution_count": 4,
      "outputs": [
        {
          "output_type": "stream",
          "text": [
            "You are all allowed in because Kolawole Precious is correct, and kolawoleprecious99@gmail.com is valid\n"
          ],
          "name": "stdout"
        }
      ]
    },
    {
      "cell_type": "code",
      "metadata": {
        "id": "9f-la2ztqled",
        "colab": {
          "base_uri": "https://localhost:8080/"
        },
        "outputId": "e12e6e36-cc5b-4b33-e596-6dc5ab5d2fde"
      },
      "source": [
        "class User: \n",
        "\n",
        "  def __init__(self, my_name, my_email):\n",
        "    #all attributes are created when the object is created\n",
        "    self.name= my_name\n",
        "    self.email= my_email\n",
        "\n",
        "usd= User('Kolawole Precious', 'kolawoleprecious99@gmail.com')\n",
        "print(usd.name, usd.email )    "
      ],
      "execution_count": 5,
      "outputs": [
        {
          "output_type": "stream",
          "text": [
            "Kolawole Precious kolawoleprecious99@gmail.com\n"
          ],
          "name": "stdout"
        }
      ]
    },
    {
      "cell_type": "markdown",
      "metadata": {
        "id": "J8jXlyR1Chvl"
      },
      "source": [
        "# Inheritance\n",
        "## With pass assigned"
      ]
    },
    {
      "cell_type": "code",
      "metadata": {
        "id": "rxyIkxoBri1e",
        "colab": {
          "base_uri": "https://localhost:8080/"
        },
        "outputId": "91be2272-59cf-4a0b-ef1d-403b1b3a0d55"
      },
      "source": [
        "class Cancer:\n",
        "  '''\n",
        "  This class defines two privates attributes color and nucleon\n",
        "  ''' \n",
        "  def __init__(self, color, nucleon):\n",
        "    self.color= color\n",
        "    self.nucleon= nucleon\n",
        "    \n",
        "#Empty class inherited from Cancer    \n",
        "class BreastCancer(Cancer):\n",
        "  pass\n",
        "\n",
        "#constructor inherited from Cancer \n",
        "b_can= BreastCancer('black', 'single')\n",
        "print(b_can.color)\n",
        "print(b_can.nucleon)\n",
        "\n"
      ],
      "execution_count": 6,
      "outputs": [
        {
          "output_type": "stream",
          "text": [
            "black\n",
            "single\n"
          ],
          "name": "stdout"
        }
      ]
    },
    {
      "cell_type": "markdown",
      "metadata": {
        "id": "0whZcq5tC0hT"
      },
      "source": [
        "## With Functionalities"
      ]
    },
    {
      "cell_type": "code",
      "metadata": {
        "id": "n7cEe3W5LsZd",
        "colab": {
          "base_uri": "https://localhost:8080/"
        },
        "outputId": "99872d40-fb5e-4bb8-9128-5d1d36be554b"
      },
      "source": [
        "class Cancer:\n",
        "  def __init__(self, cell_shape, nucleon):\n",
        "    self.cell_shape= cell_shape\n",
        "    self.nucleon= nucleon\n",
        "\n",
        "#Empty class inherited from Cancer\n",
        "class BreastCancer(Cancer):\n",
        "  '''\n",
        "  create a constructor specifically for Breast Cancer with an additional attribute\n",
        "  parent class should always be called thereafter\n",
        "  self is a Breast Cancer but also Cancer\n",
        "  '''\n",
        "  def __init__(self, cell_shape, nucleon, tumors_view):\n",
        "    Cancer.__init__(self, cell_shape, nucleon)\n",
        "    self.tumors_view= tumors_view\n",
        "\n",
        "#constructor inherited from Cancer \n",
        "b_can= BreastCancer('irregular', 'multinucleon', 'dimpled_covering')\n",
        "#print out the newly added functionality\n",
        "print(b_can.tumors_view,   b_can.nucleon)       "
      ],
      "execution_count": 7,
      "outputs": [
        {
          "output_type": "stream",
          "text": [
            "dimpled_covering multinucleon\n"
          ],
          "name": "stdout"
        }
      ]
    },
    {
      "cell_type": "markdown",
      "metadata": {
        "id": "eb6e-zbrC9GC"
      },
      "source": [
        "# Encapsulation\n",
        "## Getter and Setter methods"
      ]
    },
    {
      "cell_type": "code",
      "metadata": {
        "id": "gPJzfNsfDIWq",
        "colab": {
          "base_uri": "https://localhost:8080/"
        },
        "outputId": "fbee45e2-77aa-43cb-cd59-5f909a1a8a75"
      },
      "source": [
        "class Cancer:\n",
        "    '''\n",
        "  This class defines two privates attributes _color and _nucleon\n",
        "  Also, getter and setter methods are provided for the attributes\n",
        "  ''' \n",
        "\n",
        "    def __init__(self, color='black', nucleon='single'):\n",
        "        self.__color = color\n",
        "        self.__nucleon = nucleon\n",
        "\n",
        "    def get_color(self):\n",
        "        return self.__color\n",
        "\n",
        "    def set_color(self, color):\n",
        "        self.__color = color\n",
        "\n",
        "    def get_nucleon(self):\n",
        "        return self.__nucleon\n",
        "\n",
        "    def set_nucleon(self, nucleon):\n",
        "        self.__nucleon = nucleon\n",
        "\n",
        "\n",
        "class BreastCancer(Cancer):\n",
        "  '''\n",
        "  create a constructor specifically for Breast Cancer with an additional attribute\n",
        "  parent class should always be called thereafter,  self is a Breast Cancer but also Cancer\n",
        "  '''\n",
        "  \n",
        "  def __init__(self, shape, tumor_size):\n",
        "    super().__init__()\n",
        "    self.__shape = shape\n",
        "    self.__tumor_size = tumor_size\n",
        "\n",
        "  def get_shape(self):\n",
        "    return self.__shape\n",
        "  def set_shape(self, shape):\n",
        "    self.__shape = shape\n",
        "\n",
        "  def get_tumor_size(self):\n",
        "    return self.__tumor_size\n",
        "  def set_tumor_size(self, tumor_size):\n",
        "    self.__tumor_size = tumor_size\n",
        "\n",
        "b_can = BreastCancer('irregular', 3.3)\n",
        "\n",
        "#print out the newly added functionalities\n",
        "print('What is the shape of the BreastCancer?',b_can.get_shape()) \n",
        "print('What is the size of the tumor?', b_can.get_tumor_size())\n",
        "print(\"Color of the Parent Cancer:\", b_can.get_color())\n",
        "print('Nucleon of the Parent Cancer?', b_can.get_nucleon())\n",
        "b_can.set_nucleon('multinucleon')\n",
        "print(' Nucleon of the BreastCancer ?', b_can.get_nucleon())\n",
        "b_can.set_color(\"Red\")\n",
        "print(\"Color of the BreastCancer?':\", b_can.get_color())"
      ],
      "execution_count": 9,
      "outputs": [
        {
          "output_type": "stream",
          "text": [
            "What is the shape of the BreastCancer? irregular\n",
            "What is the size of the tumor? 3.3\n",
            "Color of the Parent Cancer: black\n",
            "Nucleon of the Parent Cancer? single\n",
            " Nucleon of the BreastCancer ? multinucleon\n",
            "Color of the BreastCancer?': Red\n"
          ],
          "name": "stdout"
        }
      ]
    },
    {
      "cell_type": "markdown",
      "metadata": {
        "id": "iyO8lRM3DLhG"
      },
      "source": [
        "# Polymorphism"
      ]
    },
    {
      "cell_type": "code",
      "metadata": {
        "id": "09KqqCX8XSzp",
        "colab": {
          "base_uri": "https://localhost:8080/"
        },
        "outputId": "3392f5ee-3e63-499b-f6f8-f4dc3e0e3285"
      },
      "source": [
        "#Parent Class Dog\n",
        "class Dog:\n",
        "  '''\n",
        "  We created a class with one method bark() \n",
        "  The first parameter of this method is set to 5, \n",
        "  this gives us the option to call it with or without a parameter\n",
        "  '''\n",
        "  def bark(self, Age = 5):\n",
        "    if Age is not 5:\n",
        "      print('You bark like a puppy because you are not up to 5')\n",
        "    if Age >= 5: \n",
        "      print('WOOF!!!!')\n",
        "\n",
        "py= Dog() #create instance \n",
        "\n",
        "py.bark() #call the method without parameter \n",
        "py.bark(1) \n",
        "py.bark(6) #call the second with a parameter       "
      ],
      "execution_count": 10,
      "outputs": [
        {
          "output_type": "stream",
          "text": [
            "WOOF!!!!\n",
            "You bark like a puppy because you are not up to 5\n",
            "You bark like a puppy because you are not up to 5\n",
            "WOOF!!!!\n"
          ],
          "name": "stdout"
        }
      ]
    },
    {
      "cell_type": "code",
      "metadata": {
        "id": "GKJSa3oE4jo6"
      },
      "source": [
        "#class Puppy(Dog):\n",
        "  #def bark(self, Age= 5):\n",
        "    #print('HOWL!!!!')\n"
      ],
      "execution_count": 11,
      "outputs": []
    },
    {
      "cell_type": "markdown",
      "metadata": {
        "id": "1kge3rikDULL"
      },
      "source": [
        "# Abstraction"
      ]
    },
    {
      "cell_type": "code",
      "metadata": {
        "id": "xCnQ0mYZ6huc"
      },
      "source": [
        "from abc import ABC, abstractmethod "
      ],
      "execution_count": 12,
      "outputs": []
    },
    {
      "cell_type": "code",
      "metadata": {
        "id": "kj1jTjks64Zm",
        "colab": {
          "base_uri": "https://localhost:8080/"
        },
        "outputId": "869dbbbc-c849-4eef-e8cd-0f9dd52ffca2"
      },
      "source": [
        "class User(ABC):\n",
        "  '''\n",
        "  This is an abstract class that has the abstract method clearance\n",
        "  Two Cash, Transfer child classes inherited clearance functionality from User class\n",
        "  '''\n",
        "  def receipt(self, amount):\n",
        "    print('You just paid', amount)\n",
        "  @abstractmethod    \n",
        "  def clearance(self, amount):\n",
        "    pass\n",
        "\n",
        "class Cash(User):\n",
        "  def clearance(self, amount):\n",
        "    print('Cash Clearance of', amount, 'made')\n",
        "\n",
        "class Transfer(User):\n",
        "  def clearance(self, amount):\n",
        "    print('Transfer clearance of', amount, 'made')\n",
        "\n",
        "#object created for Cash class\n",
        "cs= Cash()\n",
        "cs.clearance(1500)\n",
        "cs.receipt(1500)                \n",
        "print('Cash is an instance of User', isinstance(cs, User))\n",
        "\n",
        "#object created for Transfer class\n",
        "tf= Transfer()\n",
        "tf.clearance(2000)\n",
        "tf.receipt(2000)\n",
        "print('Transfer is an instance of User', isinstance(tf, User))"
      ],
      "execution_count": 13,
      "outputs": [
        {
          "output_type": "stream",
          "text": [
            "Cash Clearance of 1500 made\n",
            "You just paid 1500\n",
            "Cash is an instance of User True\n",
            "Transfer clearance of 2000 made\n",
            "You just paid 2000\n",
            "Transfer is an instance of User True\n"
          ],
          "name": "stdout"
        }
      ]
    },
    {
      "cell_type": "markdown",
      "metadata": {
        "id": "H4uTQRs1Darj"
      },
      "source": [
        "# How the \"help\" function works "
      ]
    },
    {
      "cell_type": "code",
      "metadata": {
        "id": "CyPAUeDlBiIg",
        "colab": {
          "base_uri": "https://localhost:8080/"
        },
        "outputId": "81f702f7-e2ab-428d-a01c-6c41da483cc9"
      },
      "source": [
        "help(User)"
      ],
      "execution_count": 14,
      "outputs": [
        {
          "output_type": "stream",
          "text": [
            "Help on class User in module __main__:\n",
            "\n",
            "class User(abc.ABC)\n",
            " |  This is an abstract class that has the abstract method clearance\n",
            " |  Two Cash, Transfer child classes inherited clearance functionality from User class\n",
            " |  \n",
            " |  Method resolution order:\n",
            " |      User\n",
            " |      abc.ABC\n",
            " |      builtins.object\n",
            " |  \n",
            " |  Methods defined here:\n",
            " |  \n",
            " |  clearance(self, amount)\n",
            " |  \n",
            " |  receipt(self, amount)\n",
            " |  \n",
            " |  ----------------------------------------------------------------------\n",
            " |  Data and other attributes defined here:\n",
            " |  \n",
            " |  __abstractmethods__ = frozenset({'clearance'})\n",
            " |  \n",
            " |  ----------------------------------------------------------------------\n",
            " |  Data descriptors inherited from abc.ABC:\n",
            " |  \n",
            " |  __dict__\n",
            " |      dictionary for instance variables (if defined)\n",
            " |  \n",
            " |  __weakref__\n",
            " |      list of weak references to the object (if defined)\n",
            "\n"
          ],
          "name": "stdout"
        }
      ]
    },
    {
      "cell_type": "code",
      "metadata": {
        "id": "vc2bsi6FZNaG"
      },
      "source": [
        ""
      ],
      "execution_count": 14,
      "outputs": []
    }
  ]
}